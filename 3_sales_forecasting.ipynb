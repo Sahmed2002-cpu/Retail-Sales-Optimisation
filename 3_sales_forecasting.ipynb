import pandas as pd
from statsmodels.tsa.arima.model import ARIMA
import matplotlib.pyplot as plt

# Load the processed data
df = pd.read_csv('../data/processed_sales_data.csv')

# Set the date column
df['date'] = pd.to_datetime(df['date'])
df.set_index('date', inplace=True)

# Train ARIMA model
model = ARIMA(df['weekly_sales'], order=(5,1,0))
model_fit = model.fit()

# Save the model
import pickle
with open('../src/models/arima_model.pkl', 'wb') as f:
    pickle.dump(model_fit, f)

# Forecast next 12 weeks
forecast = model_fit.forecast(steps=12)

# Plot forecast
plt.figure(figsize=(10,6))
plt.plot(df.index, df
