# This notebook will handle loading the data from your local or Azure Blob Storage into a Pandas DataFrame or PySpark DataFrame

import pandas as pd

# Load dataset
df = pd.read_csv('../data/sales_data.csv')

# Inspect data
print(df.head())

# Save cleaned data
df.to_csv('../data/sales_cleaned.csv', index=False)
